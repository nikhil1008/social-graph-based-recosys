{
  "nbformat": 4,
  "nbformat_minor": 0,
  "metadata": {
    "colab": {
      "name": "Recommendations using social graph.ipynb",
      "version": "0.3.2",
      "provenance": [],
      "collapsed_sections": []
    },
    "kernelspec": {
      "name": "python3",
      "display_name": "Python 3"
    },
    "accelerator": "TPU"
  },
  "cells": [
    {
      "cell_type": "markdown",
      "metadata": {
        "id": "aLSF2c-LoC2C",
        "colab_type": "text"
      },
      "source": [
        "__In this project I tried to explore a new approach to recommender systems which can utilize information in social networks, including user preference, item's general acceptance, and influence from social friends. I could achieve on par performance with standard CF based recommender systems. On the other hand, this system doesnt suffer from cold-start data sparsity problems common to CF based systems . This project uses real-world dataset from Yelp challenge which consists of  1637138 users and 108179 businesses.__\n",
        "\n",
        "\n"
      ]
    },
    {
      "cell_type": "markdown",
      "metadata": {
        "id": "nKoZafT-lcrn",
        "colab_type": "text"
      },
      "source": [
        "**1. Mounting  Yelp Data**"
      ]
    },
    {
      "cell_type": "code",
      "metadata": {
        "id": "naOmWKu6izd-",
        "colab_type": "code",
        "outputId": "10d150ae-a563-4519-f50f-10aca11a4868",
        "colab": {
          "base_uri": "https://localhost:8080/",
          "height": 194
        }
      },
      "source": [
        "from google.colab import drive\n",
        "drive.mount('/gdrive')"
      ],
      "execution_count": 0,
      "outputs": [
        {
          "output_type": "stream",
          "text": [
            "Go to this URL in a browser: https://accounts.google.com/o/oauth2/auth?client_id=947318989803-6bn6qk8qdgf4n4g3pfee6491hc0brc4i.apps.googleusercontent.com&redirect_uri=urn%3Aietf%3Awg%3Aoauth%3A2.0%3Aoob&scope=email%20https%3A%2F%2Fwww.googleapis.com%2Fauth%2Fdocs.test%20https%3A%2F%2Fwww.googleapis.com%2Fauth%2Fdrive%20https%3A%2F%2Fwww.googleapis.com%2Fauth%2Fdrive.photos.readonly%20https%3A%2F%2Fwww.googleapis.com%2Fauth%2Fpeopleapi.readonly&response_type=code\n",
            "\n",
            "Enter your authorization code:\n",
            "··········\n",
            "Mounted at /gdrive\n"
          ],
          "name": "stdout"
        }
      ]
    },
    {
      "cell_type": "markdown",
      "metadata": {
        "id": "Q996UMg-lj_P",
        "colab_type": "text"
      },
      "source": [
        "**2. Reading and storing json files**"
      ]
    },
    {
      "cell_type": "code",
      "metadata": {
        "id": "6rIHtMPhkABI",
        "colab_type": "code",
        "outputId": "d36d1be3-fcc0-4abb-f8bb-9de67d51bd67",
        "colab": {
          "base_uri": "https://localhost:8080/",
          "height": 164
        }
      },
      "source": [
        "with open('/gdrive/My Drive/Yelp_dataset/user.json') as f:\n",
        "  lines_user = f.readlines() ;\n",
        "with open('/gdrive/My Drive/Yelp_dataset/review.json') as f:\n",
        "  lines_review = f.readlines() ;\n",
        "with open('/gdrive/My Drive/Yelp_dataset/business.json') as f:\n",
        "  lines_business = f.readlines() ; \n",
        "    \n",
        "  \n",
        "print(lines_user[0])\n",
        "print(lines_review[0])\n",
        "print(lines_business[9])\n",
        "\n"
      ],
      "execution_count": 0,
      "outputs": [
        {
          "output_type": "stream",
          "text": [
            "{\"user_id\":\"l6BmjZMeQD3rDxWUbiAiow\",\"name\":\"Rashmi\",\"review_count\":95,\"yelping_since\":\"2013-10-08 23:11:33\",\"useful\":84,\"funny\":17,\"cool\":25,\"elite\":\"2015,2016,2017\",\"friends\":\"c78V-rj8NQcQjOI8KP3UEA, alRMgPcngYSCJ5naFRBz5g, ajcnq75Z5xxkvUSmmJ1bCg, BSMAmp2-wMzCkhTfq9ToNg, jka10dk9ygX76hJG0gfPZQ, dut0e4xvme7QSlesOycHQA, l4l5lBnK356zBua7B-UJ6Q, 0HicMOOs-M_gl2eO-zES4Q, _uI57wL2fLyftrcSFpfSGQ, T4_Qd0YWbC3co6WSMw4vxg, iBRoLWPtWmsI1kdbE9ORSA, xjrUcid6Ymq0DoTJELkYyw, GqadWVzJ6At-vgLzK_SKgA, DvB13VJBmSnbFXBVBsKmDA, vRP9nQkYTeNioDjtxZlVhg, gT0A1iN3eeQ8EMAjJhwQtw, 6yCWjFPtp_AD4x93WAwmnw, 1dKzpNnib-JlViKv8_Gt5g, 3Bv4_JxHXq-gVLOxYMQX0Q, ikQyfu1iViYh8T0us7wiFQ, f1GGltNaB7K5DR1jf3dOmg, tgeFUChlh7v8bZFVl2-hjQ, -9-9oyXlqsMG2he5xIWdLQ, Adj9fBPVJad8vSs-mIP7gw, Ce49RY8CKXVsTifxRYFTsw, M1_7TLi8CbdA89nFLlH4iw, wFsNv-hqbW_F5-IRqfBN6g, 0Q1L7zXHocaUZ2gsG2XJeg, cBFgmOCBdhYa0xoFEAzp_g, VrD_AgiFvzqtlR15vir3SQ, cpE-7HK514Sr5vpSen9CEQ, F1UYelhPFB-zIKlt0ygIZg, CQAL1hvsLMCzuJf9AglsXw, 1KnY1wr15WfEWIRLB9IS6g, QWFQ-kXBiLbid-lm5Jr3dQ, nymT8liFugCrM16lTy0ZfQ, qj69bdd885heDvUPCyHd2Q, DySCZZcgbdrlHgEovk5y9w, lZMJIDuvhT9Dy4KyquLXyA, b_9Gn7wS93AoPZPR0dIJqQ, N07g1IaLh0_6sUjtiSRe4w, YdfPX_7DxSnKvvdCJ57iOw, 8GYryZPD22W7WgQ8kvMkEQ, cpQmAgOWatghp14h1pn1dQ, EnchhymLYMqftCRjqvVWmw, -JdfKhFktE7Zs9BMDFcPeQ, uWhC9eof98zPkvsalgaqJw, eyTlNDDaiPatfe6mheIZ0g, VfHq0o73aKsODvfAhwAQtg, kvD5tICngLAaQDujSFWupA, dXacwEhqi9-3_XT6JeH0Og, NfU0zDaTMEQ4-X9dbQWd9A, cTHWBdjSKbctSUIvWsgFxw, 3IEtCbSDF5t7RkZ20T6s9A, HJJXTrp6UybYyPdQ9DA0JA, JaXogQFVjzGRAeBvzamBHg, NUonfKkjS1iVqnNITtgXZg, D5vaJAYp0sOrGfsj9qvsMA, H27Ecbwwu4FGAlLgICourw, S8HrLmMiE4u8FWYWkNEoTw, Io36Y3xWQcIX9rYvPcYfXQ, J5mcqh8KxYpqjaLBNlwcig, -nTB3_08g06fD0GT8AtDBQ, wMpFA46lihK8oFns_5p65A, RZGFJHeomGJCWp3xcL3ejA, ZoQSzzXoSP1RxOD4Amv9Bg, qzM0EB0SkuuGIFv0adjQAQ, HuM6vvuveken-fPZ7d4olA, H3oukHpGpn9n_mJwSDSQyQ, PkmsJsQ8FIZe8eh8c_u96g, wSByVbwME4MzgkJaFyfvNg, YEVqknoDmrHAoUbHX0nPnA, li3vsK1XAPmeJYAUTYflHQ, MKc8yXi0glbPYt0Qb4PECw, fQPH6W9fksi27gkuUPnFaA, amrCMrDsoRetYFg2kwwdFA, 84dVQ6n6r2ezNaTuc7RkKA, yW9QjWY0olv5-uRKv3t_Kw, 5XJDj7c3eoidfQ3jW18Zgw, txSc6a6pIDctvwyBeu7Aqg, HFbbDCyyqP9xPkUlcxeIdg, hTUv5oh2do6Z3OppPuuiJA, gSqonG9J4fNM-fl_fE71AA, pd9mgTFpBTg5F9x-MsczNg, j3VE22V2GcHiH8UZxfFLfw, NYXlMW-T-3V4Jqr4r-i0Wg, btxgAZedxX8IWhMifA7Xkg, -Hp5mPLiRJNFnyeX5Ygzag, P6-DwVg6-t2JuQwIUEk0iQ, OI2TvxYvZrAodBG_RF53Xw, bHxf_VPKmZur1Bier-6A2A, Et_Sb39cVm81_Xe9HDM8ZQ, 5HwGl2UyYbaRq8aD6YC-fA, ZK228WMcCKLo5thcjD7rdw, iTf8wojwfm0NOi7dOiz3Nw, btYRxQYNJjpecflNHtFH0A, Kgo42FzpW_dXFgDKoewbtg, MNk_1Q_dqOY3xxHZKeO8VQ, AlwD504T9k0m5lkg3k5g6Q\",\"fans\":5,\"average_stars\":4.03,\"compliment_hot\":2,\"compliment_more\":0,\"compliment_profile\":0,\"compliment_cute\":0,\"compliment_list\":0,\"compliment_note\":1,\"compliment_plain\":1,\"compliment_cool\":1,\"compliment_funny\":1,\"compliment_writer\":2,\"compliment_photos\":0}\n",
            "\n",
            "{\"review_id\":\"Q1sbwvVQXV2734tPgoKj4Q\",\"user_id\":\"hG7b0MtEbXx5QzbzE6C_VA\",\"business_id\":\"ujmEBvifdJM6h6RLv4wQIg\",\"stars\":1.0,\"useful\":6,\"funny\":1,\"cool\":0,\"text\":\"Total bill for this horrible service? Over $8Gs. These crooks actually had the nerve to charge us $69 for 3 pills. I checked online the pills can be had for 19 cents EACH! Avoid Hospital ERs at all costs.\",\"date\":\"2013-05-07 04:34:36\"}\n",
            "\n",
            "{\"business_id\":\"4GBVPIYRvzGh4K4TkRQ_rw\",\"name\":\"Options Salon & Spa\",\"address\":\"21689 Lorain Rd\",\"city\":\"Fairview Park\",\"state\":\"OH\",\"postal_code\":\"44126\",\"latitude\":41.4408252653,\"longitude\":-81.8540965503,\"stars\":4.5,\"review_count\":8,\"is_open\":1,\"attributes\":{\"ByAppointmentOnly\":\"False\",\"BusinessAcceptsCreditCards\":\"True\",\"RestaurantsPriceRange2\":\"2\",\"BusinessParking\":\"{'garage': False, 'street': False, 'validated': False, 'lot': True, 'valet': False}\",\"AcceptsInsurance\":\"False\"},\"categories\":\"Beauty & Spas, Nail Salons, Day Spas, Massage\",\"hours\":{\"Tuesday\":\"9:0-21:0\",\"Wednesday\":\"9:0-21:0\",\"Thursday\":\"9:0-21:0\",\"Friday\":\"9:0-19:0\",\"Saturday\":\"9:0-16:0\"}}\n",
            "\n"
          ],
          "name": "stdout"
        }
      ]
    },
    {
      "cell_type": "markdown",
      "metadata": {
        "id": "ylI2YaOclMpK",
        "colab_type": "text"
      },
      "source": [
        "**Storing restaurant attributes like price range in dictionary **"
      ]
    },
    {
      "cell_type": "code",
      "metadata": {
        "id": "PrcttZmMabQl",
        "colab_type": "code",
        "outputId": "989f1736-4503-4edb-e25f-62a80bba634f",
        "colab": {
          "base_uri": "https://localhost:8080/",
          "height": 34
        }
      },
      "source": [
        "import json\n",
        "\n",
        "business = dict() ; \n",
        "for i in range (0, len(lines_business)):\n",
        "  temp_line = json.loads(lines_business[i]);\n",
        "  if ('attributes' in temp_line):\n",
        "    if ((temp_line['attributes'] != None) and ('RestaurantsPriceRange2' in temp_line['attributes'])):\n",
        "      business[temp_line['business_id']] = temp_line['attributes']['RestaurantsPriceRange2'];\n",
        "#print(business);\n",
        "print('business Map Done')\n",
        "del lines_business ; "
      ],
      "execution_count": 0,
      "outputs": [
        {
          "output_type": "stream",
          "text": [
            "business Map Done\n"
          ],
          "name": "stdout"
        }
      ]
    },
    {
      "cell_type": "markdown",
      "metadata": {
        "id": "n59TdOMomh60",
        "colab_type": "text"
      },
      "source": [
        "Divide reviews into training and testing data and store them into dictionaries . \n",
        "- Note that dictionaries are used to avoid storing big matrices which will eat up the RAM . (Why ? )\n",
        "- Consider this - There are 1637138 users and 108179 businesses , matrix size would blow up to \n",
        " 1637138*108179 and this would be silly because it would be an extremely sparse matrix. \n",
        "\n",
        "\n"
      ]
    },
    {
      "cell_type": "code",
      "metadata": {
        "colab_type": "code",
        "id": "5yRitvGSKRSQ",
        "outputId": "9c2ffc23-4e01-46eb-d6a6-5a659c49c1ef",
        "colab": {
          "base_uri": "https://localhost:8080/",
          "height": 102
        }
      },
      "source": [
        "import random\n",
        "from collections import defaultdict\n",
        "\n",
        "reviews_train = defaultdict(dict)\n",
        "reviews_b_train = defaultdict(dict)\n",
        "\n",
        "reviews_test = defaultdict(dict)\n",
        "reviews_b_test = defaultdict(dict)\n",
        "\n",
        "for line in lines_review : \n",
        "    temp_line = json.loads(line);\n",
        "    if (temp_line['business_id'] in business):\n",
        "       if ([random.randint(0,1), random.randint(0,1)] == [1,1]):\n",
        "        reviews_test[temp_line['user_id']][temp_line['business_id']] = temp_line['stars'];\n",
        "        reviews_b_test[temp_line['business_id']][temp_line['user_id']] = temp_line['stars'];\n",
        "       else:\n",
        "        reviews_train[temp_line['user_id']][temp_line['business_id']] = temp_line['stars'];\n",
        "        reviews_b_train[temp_line['business_id']][temp_line['user_id']] = temp_line['stars'];\n",
        "\n",
        "\n",
        "print(\"No of training samples : \")\n",
        "print(len(reviews_train))\n",
        "print(\"No of testing samples : \")\n",
        "print(len(reviews_test))\n",
        "\n",
        "#print(len(reviews))\n",
        "print('Review Map done')\n",
        "\n",
        "del lines_review ; "
      ],
      "execution_count": 0,
      "outputs": [
        {
          "output_type": "stream",
          "text": [
            "No of training samples : \n",
            "1193501\n",
            "No of testing samples : \n",
            "611679\n",
            "Review Map done\n"
          ],
          "name": "stdout"
        }
      ]
    },
    {
      "cell_type": "markdown",
      "metadata": {
        "id": "NkhfMEjRKLNR",
        "colab_type": "text"
      },
      "source": [
        "User Dictionary :"
      ]
    },
    {
      "cell_type": "code",
      "metadata": {
        "id": "4oghtc-DzDHY",
        "colab_type": "code",
        "outputId": "524460bd-5c66-4b4c-d219-7bd908df5604",
        "colab": {
          "base_uri": "https://localhost:8080/",
          "height": 34
        }
      },
      "source": [
        "with open('/gdrive/My Drive/Yelp_dataset/user.json') as f:\n",
        "  lines_user = f.readlines() ;\n",
        "users = dict (); \n",
        "for line in lines_user:\n",
        "  line = json.loads(line);\n",
        "  users[line['user_id']] = line['friends']\n",
        "print ('User Map done')\n",
        "del lines_user ; "
      ],
      "execution_count": 0,
      "outputs": [
        {
          "output_type": "stream",
          "text": [
            "User Map done\n"
          ],
          "name": "stdout"
        }
      ]
    },
    {
      "cell_type": "code",
      "metadata": {
        "id": "o0Y2_EUW2YZA",
        "colab_type": "code",
        "outputId": "85c30c5d-8df3-4f1b-c70c-4449f759ba25",
        "colab": {
          "base_uri": "https://localhost:8080/",
          "height": 85
        }
      },
      "source": [
        "print(\"No of users   \"+str(len(users)))\n",
        "print(\"No of Reviews Train \"+str(len(reviews_train)))\n",
        "print(\"No of Reviews Test \"+str(len(reviews_test)))\n",
        "print(\"No of Business   \"+str(len(business)))"
      ],
      "execution_count": 0,
      "outputs": [
        {
          "output_type": "stream",
          "text": [
            "No of users   1637138\n",
            "No of Reviews Train 1193103\n",
            "No of Reviews Test 611795\n",
            "No of Business   108179\n"
          ],
          "name": "stdout"
        }
      ]
    },
    {
      "cell_type": "code",
      "metadata": {
        "id": "ReZsYldKBPnG",
        "colab_type": "code",
        "outputId": "3b8fa304-5fc7-4246-8756-e4c940687c3b",
        "colab": {
          "base_uri": "https://localhost:8080/",
          "height": 51
        }
      },
      "source": [
        "print('1st review : ' )\n",
        "print(list(reviews_train.keys())[0], list(reviews_train[list(reviews_train.keys())[0]].keys())[0])"
      ],
      "execution_count": 0,
      "outputs": [
        {
          "output_type": "stream",
          "text": [
            "1st review : \n",
            "yXQM5uF2jS6es16SJzNHfg NZnhc2sEQy3RmzKTZnqtwQ\n"
          ],
          "name": "stdout"
        }
      ]
    },
    {
      "cell_type": "code",
      "metadata": {
        "id": "bFb48nMYNFdi",
        "colab_type": "code",
        "outputId": "f71a43fe-6748-4dc6-ac0c-e805b1d32388",
        "colab": {
          "base_uri": "https://localhost:8080/",
          "height": 68
        }
      },
      "source": [
        "# Define function \n",
        "import numpy as np ; \n",
        "def get_user_rating_prob (UID):\n",
        "  \n",
        "    u_ratings = list(reviews_train[str(UID)].values())\n",
        "   \n",
        "    if (len (u_ratings) == 0 ):\n",
        "      return [0.2]*5 ; \n",
        "    else:\n",
        "      temp_hist = np.histogram(u_ratings, bins=[1, 2, 3, 4, 5, 6])[0]      \n",
        "      return((temp_hist+1)/(temp_hist.sum()+5))\n",
        "\n",
        "def get_business_rating_prob (BID):\n",
        "  \n",
        "    b_ratings = list(reviews_b_train[str(BID)].values())\n",
        "   \n",
        "    if (len (b_ratings) == 0 ):\n",
        "      return np.array([0.2]*5) ; \n",
        "    else:\n",
        "      temp_hist = np.histogram(b_ratings, bins=[1, 2, 3, 4, 5, 6])[0]      \n",
        "      return((temp_hist+1)/(temp_hist.sum()+5))\n",
        "\n",
        "# corrleation between two users - 1. Find businesses rated by both users  2. Find reatings correlation \n",
        "def get_user_similarity_hist (UID1, UID2):\n",
        "   \n",
        "   u1_bs = list(reviews_train[UID1].keys()) ; \n",
        "   u2_bs = list(reviews_train[UID2].keys()) ; \n",
        "   \n",
        "   #print(u1_bs)\n",
        "   #print(u2_bs)\n",
        "    \n",
        "   u1_rs =[]\n",
        "   u2_rs =[]\n",
        "    \n",
        "   for item in u1_bs : \n",
        "      if item in u2_bs : \n",
        "        u1_rs.append(reviews_train[UID1][item]) ; \n",
        "        u2_rs.append(reviews_train[UID2][item]) ; \n",
        "   \n",
        "   if (len(u1_rs) == 0):\n",
        "      return np.array([])\n",
        "   else:\n",
        "      return(np.histogram( (np.array(u1_rs) - np.array(u2_rs)) , bins= [-4, -3, -2, -1, 0, 1, 2, 3, 4, 5])[0]) ; \n",
        "\n",
        "# Find friends of UID rating BID \n",
        "def find_friends_rating_same_restaurant ( UID , bid ): \n",
        "  \n",
        "  friends = users[UID] ; \n",
        "  users_rating_bid = list(reviews_b_train[bid].keys())\n",
        "  \n",
        "  friends_of_UID_rating_bid = []\n",
        "  \n",
        "  for u in users_rating_bid : \n",
        "    if u in friends : \n",
        "       friends_of_UID_rating_bid.append(u)\n",
        "  \n",
        "  return(friends_of_UID_rating_bid)\n",
        "  \n",
        "\n",
        "def estimate_user_rating_based_on_item_attribute (UID, att):\n",
        "  \n",
        "  u_ratings = list(reviews_train[str(UID)].values())\n",
        "  b_ids = list(reviews_train[str(UID)].keys())\n",
        "  atts =[business[bid] for bid in b_ids];\n",
        "  \n",
        "  indices = [i for i, x in enumerate(atts) if x == att]\n",
        "  \n",
        "  #price range : 1 - 5 \n",
        "  #print(atts)\n",
        "  #print(att)\n",
        "  #print(indices)\n",
        "  \n",
        "  if ( (len(u_ratings)== 0) or (len(atts) == 0)) :\n",
        "    return np.array([0.2]*5) ; \n",
        "  else:\n",
        "    temp_hist    = np.histogram(u_ratings, bins=[1, 2, 3, 4, 5, 6])[0]      \n",
        "    att_ratings  = [u_ratings[i] for i in indices ]; \n",
        "    temp_att_hist= np.histogram(att_ratings, bins=[1, 2, 3, 4, 5, 6])[0]      \n",
        "    second_term = np.divide ( (temp_att_hist + 1) , (temp_hist + 5));\n",
        "    #print(\"second_term =\")\n",
        "    #print(second_term)\n",
        "    return(second_term)\n",
        "\n",
        "def normalize (array):\n",
        "  array= array/ (array.sum()) ; \n",
        "  return(array);\n",
        "  \n",
        "#################################################################################\n",
        "UID = list(reviews_test.keys())[0];\n",
        "a = estimate_user_rating_based_on_item_attribute(UID, '2');\n",
        "get_user_similarity_hist('yXQM5uF2jS6es16SJzNHfg', '6IAFtw20e4y99D2cA3jj9g')\n",
        "# Test function \n",
        "a= list(reviews_test.keys())[1000]\n",
        "print(a)\n",
        "b = get_user_rating_prob(str(a))\n",
        "print(b)\n",
        "print(\"sum = \"+str(sum(b)))"
      ],
      "execution_count": 0,
      "outputs": [
        {
          "output_type": "stream",
          "text": [
            "wCA6VAj6YlljD6OelSy-xQ\n",
            "[0.2, 0.2, 0.2, 0.2, 0.2]\n",
            "sum = 1.0\n"
          ],
          "name": "stdout"
        }
      ]
    },
    {
      "cell_type": "code",
      "metadata": {
        "id": "IvqkYjjiZ8to",
        "colab_type": "code",
        "colab": {}
      },
      "source": [
        ""
      ],
      "execution_count": 0,
      "outputs": []
    },
    {
      "cell_type": "code",
      "metadata": {
        "id": "4lo22tG23Dva",
        "colab_type": "code",
        "outputId": "c4bae3eb-6651-4c5f-a47f-773e5b8bbc43",
        "colab": {
          "base_uri": "https://localhost:8080/",
          "height": 34
        }
      },
      "source": [
        "a=np.array([1,2,3,4])\n",
        "b=np.array([6,8,10,4])\n",
        "np.divide(a,b)"
      ],
      "execution_count": 0,
      "outputs": [
        {
          "output_type": "execute_result",
          "data": {
            "text/plain": [
              "array([0.16666667, 0.25      , 0.3       , 1.        ])"
            ]
          },
          "metadata": {
            "tags": []
          },
          "execution_count": 9
        }
      ]
    },
    {
      "cell_type": "code",
      "metadata": {
        "id": "Z9v7mnvSJisS",
        "colab_type": "code",
        "outputId": "946d4c22-9de6-4b8c-8536-4d7f327b206c",
        "colab": {
          "base_uri": "https://localhost:8080/",
          "height": 34
        }
      },
      "source": [
        "import math\n",
        "########## User Preference ########################\n",
        "del P_mat\n",
        "P_mat = dict();\n",
        "i = 1; \n",
        "print(\"User preference : \")\n",
        "for U_ratings in reviews_test.items() : \n",
        "    #print(\"i=\"+str(i))\n",
        "    #if (i >3):\n",
        "    #   break ; \n",
        "    i=i+1 ; \n",
        "\n",
        "    UID = U_ratings[0];\n",
        "    user_rating_prob = get_user_rating_prob(UID); \n",
        "    for U_B_rating in U_ratings[1].items() : \n",
        "       att = business[U_B_rating[0]];\n",
        "       #print(\"att = \" +str(att))\n",
        "       user_rating_att_prob = estimate_user_rating_based_on_item_attribute(UID, att); \n",
        "       user_rating_att_prob= normalize(user_rating_att_prob) ; \n",
        "       P_mat[UID, U_B_rating[0]] = normalize(np.multiply(user_rating_prob, user_rating_att_prob));\n",
        "       #print(\"UID = \" + str(UID));\n",
        "       #print(\"BID = \" + str(U_B_rating[0]));\n",
        "       #print(\"user preference = \" + str(P_mat[UID, U_B_rating[0]]));\n",
        "print('------------------------  Complete -------------------------------------') \n",
        "\n"
      ],
      "execution_count": 0,
      "outputs": [
        {
          "output_type": "stream",
          "text": [
            "User preference : \n"
          ],
          "name": "stdout"
        }
      ]
    },
    {
      "cell_type": "code",
      "metadata": {
        "id": "RmmKpwvL_HwM",
        "colab_type": "code",
        "outputId": "eceed356-5d60-4eda-8988-934eb11b5619",
        "colab": {
          "base_uri": "https://localhost:8080/",
          "height": 1000
        }
      },
      "source": [
        "########## Item Acceptance ########################  \n",
        "print(\"Item Acceptance:  \")\n",
        "Q_mat = dict() ; \n",
        "i= 1;\n",
        "for B_ratings in reviews_b_test.items() : \n",
        "    if (i%10000 == 0):\n",
        "      print(i)\n",
        "    #if (i >3):\n",
        "    #   break ; \n",
        "    i=i+1 ; \n",
        "\n",
        "    BID = B_ratings[0];\n",
        "    business_rating_prob = get_business_rating_prob(BID); \n",
        "    #print(business_rating_prob)\n",
        "    for B_U_rating in B_ratings[1].items() : \n",
        "       Q_mat[B_U_rating[0], BID] = normalize(business_rating_prob);\n",
        "       #print(\"UID = \" + str(B_U_rating[0]));\n",
        "       #print(\"BID = \" + str(BID));\n",
        "       #print(\"Item Acceptance = \" + str(Q_mat[B_U_rating[0], BID]));\n",
        "print('------------------------  Complete -------------------------------------') \n"
      ],
      "execution_count": 0,
      "outputs": [
        {
          "output_type": "stream",
          "text": [
            "Item Acceptance:  \n",
            "1000\n",
            "2000\n",
            "3000\n",
            "4000\n",
            "5000\n",
            "6000\n",
            "7000\n",
            "8000\n",
            "9000\n",
            "10000\n",
            "11000\n",
            "12000\n",
            "13000\n",
            "14000\n",
            "15000\n",
            "16000\n",
            "17000\n",
            "18000\n",
            "19000\n",
            "20000\n",
            "21000\n",
            "22000\n",
            "23000\n",
            "24000\n",
            "25000\n",
            "26000\n",
            "27000\n",
            "28000\n",
            "29000\n",
            "30000\n",
            "31000\n",
            "32000\n",
            "33000\n",
            "34000\n",
            "35000\n",
            "36000\n",
            "37000\n",
            "38000\n",
            "39000\n",
            "40000\n",
            "41000\n",
            "42000\n",
            "43000\n",
            "44000\n",
            "45000\n",
            "46000\n",
            "47000\n",
            "48000\n",
            "49000\n",
            "50000\n",
            "51000\n",
            "52000\n",
            "53000\n",
            "54000\n",
            "55000\n",
            "56000\n",
            "57000\n",
            "58000\n",
            "59000\n",
            "60000\n",
            "61000\n",
            "62000\n",
            "63000\n",
            "64000\n",
            "65000\n",
            "66000\n",
            "67000\n",
            "68000\n",
            "69000\n",
            "70000\n",
            "71000\n",
            "72000\n",
            "73000\n",
            "74000\n",
            "75000\n",
            "76000\n",
            "77000\n",
            "78000\n",
            "79000\n",
            "80000\n",
            "81000\n",
            "82000\n",
            "83000\n",
            "84000\n",
            "85000\n",
            "86000\n",
            "87000\n",
            "88000\n",
            "89000\n",
            "90000\n",
            "91000\n",
            "92000\n",
            "93000\n",
            "94000\n",
            "95000\n",
            "96000\n",
            "97000\n",
            "------------------------  Complete -------------------------------------\n"
          ],
          "name": "stdout"
        }
      ]
    },
    {
      "cell_type": "code",
      "metadata": {
        "id": "HhxKFwJ7_PFY",
        "colab_type": "code",
        "outputId": "e21b3c3e-34e9-455e-ce67-88a24407732b",
        "colab": {
          "base_uri": "https://localhost:8080/",
          "height": 1000
        }
      },
      "source": [
        "########## Immediate Friend Influence ########################  \n",
        "\n",
        "bias = 0.01 ; \n",
        "\n",
        "print(\"Friends Influence \")\n",
        "R_mat = dict () ; \n",
        "i = 1; \n",
        "for U_ratings in reviews_test.items() : \n",
        "    #print(\"i= \"+str(i))\n",
        "    if (i % 10000 == 0):\n",
        "      print(i)   \n",
        "    i=i+1 ; \n",
        "    UID = U_ratings[0];\n",
        "    \n",
        "    for U_B_rating in U_ratings[1].items() : \n",
        "      bid = U_B_rating[0] ; \n",
        "      \n",
        "      friends = find_friends_rating_same_restaurant(UID, bid) ; \n",
        "      #print(\"friends: \")\n",
        "      #print(friends)\n",
        "      pred = [] ; \n",
        "      \n",
        "      for friend in friends : \n",
        "         if (friend in reviews_train):\n",
        "            if (bid in reviews_train[friend]):\n",
        "             \n",
        "              \n",
        "              friend_rating = reviews_train[friend][bid]; \n",
        "              hist_similarity = get_user_similarity_hist(UID, friend) ; \n",
        "              \n",
        "              if (hist_similarity.size != 0 ):\n",
        "                \n",
        "                #friend_pred = friend_rating + np.multiply(np.array([-4, -3, -2, -1, 0 , 1, 2, 3, 4]) , (normalize(hist_similarity))).sum() ; \n",
        "                \n",
        "                friends_prob = [0,0,0,0,0] ; \n",
        "                diff_array = [-4, -3, -2, -1, 0 , 1, 2, 3, 4];\n",
        "                hist_similarity = normalize(hist_similarity)\n",
        "                for el in diff_array : \n",
        "                  if ((el + friend_rating > 0) and (el + friend_rating < 6)):\n",
        "                     friends_prob[el + round(friend_rating) -1 ] = hist_similarity[el+4]\n",
        "                if (math.isnan(normalize(np.array(friends_prob))[0]) == False):\n",
        "                  pred.append(normalize(np.array(friends_prob)))\n",
        "                \n",
        "      #print(\"predictions = \")\n",
        "      #print(pred)\n",
        "      \n",
        "      if (len(pred) != 0 ):\n",
        "        R_mat[UID, bid] = (np.array(pred).sum(0) / np.array(pred).shape[0]) ;\n",
        "        R_mat[UID, bid] = (R_mat[UID, bid] + bias )/ np.sum(R_mat[UID, bid] + bias)\n",
        "        \n",
        "      else : \n",
        "        R_mat[UID, bid] = np.array([]) ;# Signature Number \n",
        "      \n",
        "      #print(\"friends influence = \")\n",
        "      #print(R_mat[UID, bid])\n",
        "print('------------------------  Complete -------------------------------------') \n",
        "      "
      ],
      "execution_count": 0,
      "outputs": [
        {
          "output_type": "stream",
          "text": [
            "Friends Influence \n"
          ],
          "name": "stdout"
        },
        {
          "output_type": "stream",
          "text": [
            "/usr/local/lib/python3.6/dist-packages/ipykernel_launcher.py:84: RuntimeWarning: invalid value encountered in true_divide\n"
          ],
          "name": "stderr"
        },
        {
          "output_type": "stream",
          "text": [
            "10000\n",
            "20000\n",
            "30000\n",
            "40000\n",
            "50000\n",
            "60000\n",
            "70000\n",
            "80000\n",
            "90000\n",
            "100000\n",
            "110000\n",
            "120000\n",
            "130000\n",
            "140000\n",
            "150000\n",
            "160000\n",
            "170000\n",
            "180000\n",
            "190000\n",
            "200000\n",
            "210000\n",
            "220000\n",
            "230000\n",
            "240000\n",
            "250000\n",
            "260000\n",
            "270000\n",
            "280000\n",
            "290000\n",
            "300000\n",
            "310000\n",
            "320000\n",
            "330000\n",
            "340000\n",
            "350000\n",
            "360000\n",
            "370000\n",
            "380000\n",
            "390000\n",
            "400000\n",
            "410000\n",
            "420000\n",
            "430000\n",
            "440000\n",
            "450000\n",
            "460000\n",
            "470000\n",
            "480000\n",
            "490000\n",
            "500000\n",
            "510000\n",
            "520000\n",
            "530000\n",
            "540000\n",
            "550000\n",
            "560000\n",
            "570000\n",
            "580000\n",
            "590000\n",
            "600000\n",
            "610000\n",
            "------------------------  Complete -------------------------------------\n"
          ],
          "name": "stdout"
        }
      ]
    },
    {
      "cell_type": "code",
      "metadata": {
        "id": "QqVQY0XMYkQc",
        "colab_type": "code",
        "outputId": "b7c15cde-b748-424b-9d17-9e4230c98c73",
        "colab": {
          "base_uri": "https://localhost:8080/",
          "height": 221
        }
      },
      "source": [
        "import random\n",
        "\n",
        "# check whether lenghts of all dictionaries are equal \n",
        "print('len of user preference dictionary : ' +str(len(P_mat.keys())))\n",
        "print('len of Item acceptance dictionary : ' +str(len(Q_mat.keys())))\n",
        "print('len of friends influence dictionary : ' +str(len(R_mat.keys())))\n",
        "\n",
        "\n",
        "random_key = list(P_mat.keys())[random.randint(1, len(P_mat.keys()))]\n",
        "print('\\nRandom Key :')\n",
        "print(random_key)\n",
        "print('User preference : ')\n",
        "print(P_mat[random_key])\n",
        "print('Item Acceptance : ')\n",
        "print(Q_mat[random_key])\n",
        "print('Friends Influence : ')\n",
        "print(R_mat[random_key])\n",
        "\n"
      ],
      "execution_count": 0,
      "outputs": [
        {
          "output_type": "stream",
          "text": [
            "len of user preference dictionary : 1362296\n",
            "len of Item acceptance dictionary : 1362296\n",
            "len of friends influence dictionary : 1362296\n",
            "\n",
            "Random Key :\n",
            "('jrqE4Jx-boDAxj4X7CLStQ', '0TBTV3q6QXCn9vNhy3Xi2w')\n",
            "User preference : \n",
            "[0.00914606 0.08299205 0.14869727 0.58176911 0.1773955 ]\n",
            "Item Acceptance : \n",
            "[0.02549575 0.03399433 0.09348442 0.40226629 0.44475921]\n",
            "Friends Influence : \n",
            "[0.00952381 0.24761905 0.6047619  0.00952381 0.12857143]\n"
          ],
          "name": "stdout"
        }
      ]
    },
    {
      "cell_type": "code",
      "metadata": {
        "id": "ukM6t9T8PvzP",
        "colab_type": "code",
        "outputId": "37c7aaf3-a55a-46b1-a12c-75b88f5a73df",
        "colab": {
          "base_uri": "https://localhost:8080/",
          "height": 1000
        }
      },
      "source": [
        "import math\n",
        "i=0\n",
        "predicted_ratings = dict()\n",
        "print('------------------------- Ratings prediction started --------------------------------')\n",
        "for key in list(P_mat.keys()):\n",
        "  i=i+1; \n",
        "  if(i % 25000 == 0):\n",
        "    print(i)\n",
        "  acc = np.array([0.0]*5) ; \n",
        "  if len(P_mat[key]) != 0 :\n",
        "    #print(P_mat[key])\n",
        "    acc += np.array(list(map(lambda x : math.log(x,10), P_mat[key]) ))\n",
        "  if len(Q_mat[key]) != 0 :\n",
        "    #print(Q_mat[key])\n",
        "    acc += np.array(list(map(lambda x : math.log(x,10), Q_mat[key]) ))\n",
        "  if len(R_mat[key]) != 0 :\n",
        "    #print(R_mat[key])\n",
        "    acc += np.array(list(map(lambda x : math.log(x,10), R_mat[key]) ))\n",
        "  \n",
        "  predicted_ratings[key] = np.argmax(acc)+1\n",
        "  \n",
        "print('-------------------- Prediction Complete --------------------------')\n",
        "    "
      ],
      "execution_count": 0,
      "outputs": [
        {
          "output_type": "stream",
          "text": [
            "------------------------- Ratings prediction started --------------------------------\n",
            "10000\n",
            "20000\n",
            "30000\n",
            "40000\n",
            "50000\n",
            "60000\n",
            "70000\n",
            "80000\n",
            "90000\n",
            "100000\n",
            "110000\n",
            "120000\n",
            "130000\n",
            "140000\n",
            "150000\n",
            "160000\n",
            "170000\n",
            "180000\n",
            "190000\n",
            "200000\n",
            "210000\n",
            "220000\n",
            "230000\n",
            "240000\n",
            "250000\n",
            "260000\n",
            "270000\n",
            "280000\n",
            "290000\n",
            "300000\n",
            "310000\n",
            "320000\n",
            "330000\n",
            "340000\n",
            "350000\n",
            "360000\n",
            "370000\n",
            "380000\n",
            "390000\n",
            "400000\n",
            "410000\n",
            "420000\n",
            "430000\n",
            "440000\n",
            "450000\n",
            "460000\n",
            "470000\n",
            "480000\n",
            "490000\n",
            "500000\n",
            "510000\n",
            "520000\n",
            "530000\n",
            "540000\n",
            "550000\n",
            "560000\n",
            "570000\n",
            "580000\n",
            "590000\n",
            "600000\n",
            "610000\n",
            "620000\n",
            "630000\n",
            "640000\n",
            "650000\n",
            "660000\n",
            "670000\n",
            "680000\n",
            "690000\n",
            "700000\n",
            "710000\n",
            "720000\n",
            "730000\n",
            "740000\n",
            "750000\n",
            "760000\n",
            "770000\n",
            "780000\n",
            "790000\n",
            "800000\n",
            "810000\n",
            "820000\n",
            "830000\n",
            "840000\n",
            "850000\n",
            "860000\n",
            "870000\n",
            "880000\n",
            "890000\n",
            "900000\n",
            "910000\n",
            "920000\n",
            "930000\n",
            "940000\n",
            "950000\n",
            "960000\n",
            "970000\n",
            "980000\n",
            "990000\n",
            "1000000\n",
            "1010000\n",
            "1020000\n",
            "1030000\n",
            "1040000\n",
            "1050000\n",
            "1060000\n",
            "1070000\n",
            "1080000\n",
            "1090000\n",
            "1100000\n",
            "1110000\n",
            "1120000\n",
            "1130000\n",
            "1140000\n",
            "1150000\n",
            "1160000\n",
            "1170000\n",
            "1180000\n",
            "1190000\n",
            "1200000\n",
            "1210000\n",
            "1220000\n",
            "1230000\n",
            "1240000\n",
            "1250000\n",
            "1260000\n",
            "1270000\n",
            "1280000\n",
            "1290000\n",
            "1300000\n",
            "1310000\n",
            "1320000\n",
            "1330000\n",
            "1340000\n",
            "1350000\n",
            "1360000\n",
            "-------------------- Prediction Complete --------------------------\n"
          ],
          "name": "stdout"
        }
      ]
    },
    {
      "cell_type": "code",
      "metadata": {
        "id": "g1LkognDU-DJ",
        "colab_type": "code",
        "outputId": "e03f05f2-8e6e-48ad-bc38-844c6720ebb2",
        "colab": {
          "base_uri": "https://localhost:8080/",
          "height": 34
        }
      },
      "source": [
        "RMSE = 0 \n",
        "MAE = 0\n",
        "for key1 in list(reviews_test.keys()):\n",
        "  for key2 in list(reviews_test[key1].keys()):\n",
        "    #print(key1)\n",
        "    #print(key2)\n",
        "    RMSE += (float(reviews_test[key1][key2])    -    float(predicted_ratings[key1, key2]))**2\n",
        "    MAE  += (float(reviews_test[key1][key2])    -    float(predicted_ratings[key1, key2]-1))\n",
        "\n",
        "RMSE = math.sqrt(RMSE / len(list(reviews_test.keys())))\n",
        "MAE  = MAE / len(list(reviews_test.keys()))\n",
        "print('------------------------------MAE = '+str(MAE)+'  ----------------------------------')"
      ],
      "execution_count": 0,
      "outputs": [
        {
          "output_type": "stream",
          "text": [
            "------------------------------MAE = 0.9847639759079551  ----------------------------------\n"
          ],
          "name": "stdout"
        }
      ]
    },
    {
      "cell_type": "markdown",
      "metadata": {
        "id": "hq0ajc8yPcOn",
        "colab_type": "text"
      },
      "source": [
        "**Following cells are just for my own debugging and experimentation , Please ignore them \n",
        "\n",
        "\n",
        "\n"
      ]
    },
    {
      "cell_type": "code",
      "metadata": {
        "id": "75-cALujAm08",
        "colab_type": "code",
        "outputId": "8a7813c5-d635-46f4-a419-5a680ba024c6",
        "colab": {
          "base_uri": "https://localhost:8080/",
          "height": 85
        }
      },
      "source": [
        "from collections import defaultdict\n",
        "a = defaultdict(dict)\n",
        "a[2][3]= 'N'\n",
        "a[1][-4] = 'I'\n",
        "a[-2][4]='K'\n",
        "a[2][5]='H'\n",
        "\n",
        "for item in a.items(): \n",
        "   print(item)\n",
        "\n",
        "print(3 in a[2])"
      ],
      "execution_count": 0,
      "outputs": [
        {
          "output_type": "stream",
          "text": [
            "(2, {3: 'N', 5: 'H'})\n",
            "(1, {-4: 'I'})\n",
            "(-2, {4: 'K'})\n",
            "True\n"
          ],
          "name": "stdout"
        }
      ]
    },
    {
      "cell_type": "code",
      "metadata": {
        "id": "lQ0XJPc3rygB",
        "colab_type": "code",
        "outputId": "94827ad9-097e-42fa-ea2c-1d3d3bbb6f72",
        "colab": {
          "base_uri": "https://localhost:8080/",
          "height": 85
        }
      },
      "source": [
        "for item in a.items(): \n",
        "  for item2 in item[1].items() :\n",
        "     print(item2[1])"
      ],
      "execution_count": 0,
      "outputs": [
        {
          "output_type": "stream",
          "text": [
            "N\n",
            "H\n",
            "I\n",
            "K\n"
          ],
          "name": "stdout"
        }
      ]
    },
    {
      "cell_type": "code",
      "metadata": {
        "id": "L9ZKo9e4dYzl",
        "colab_type": "code",
        "outputId": "69c78ad1-5e69-4b56-f016-8fe4289e4f74",
        "colab": {
          "base_uri": "https://localhost:8080/",
          "height": 187
        }
      },
      "source": [
        "friends_prob = [0,0,0,0,0] ; \n",
        "friend_rating= 1; \n",
        "diff_array      = [-4,   -3,   -2,   -1,   0 ,     1,    2,   3,    4]; \n",
        "hist_similarity = [0.11, 0.21, 0.32, 0.43, 0.3 , 0.25, 0.12, 0.13, 0.14]; \n",
        "pred= []     \n",
        "for el in diff_array : \n",
        "  if ((el + friend_rating > 0) and (el + friend_rating < 6)):\n",
        "    print('el = '+str(el))\n",
        "    \n",
        "    friends_prob[el + friend_rating -1 ] = hist_similarity[el+4]\n",
        "\n",
        "print(friends_prob)\n",
        "\n",
        "pred.append(friends_prob)\n",
        "pred.append(list(np.array(friends_prob)+0.1))\n",
        "\n",
        "print(pred)\n",
        "\n",
        "print(np.array(pred))\n",
        "print(np.array(pred).sum(0) / np.array(pred).shape[0])\n",
        "\n"
      ],
      "execution_count": 0,
      "outputs": [
        {
          "output_type": "stream",
          "text": [
            "el = 0\n",
            "el = 1\n",
            "el = 2\n",
            "el = 3\n",
            "el = 4\n",
            "[0.3, 0.25, 0.12, 0.13, 0.14]\n",
            "[[0.3, 0.25, 0.12, 0.13, 0.14], [0.4, 0.35, 0.22, 0.23, 0.24000000000000002]]\n",
            "[[0.3  0.25 0.12 0.13 0.14]\n",
            " [0.4  0.35 0.22 0.23 0.24]]\n",
            "[0.35 0.3  0.17 0.18 0.19]\n"
          ],
          "name": "stdout"
        }
      ]
    }
  ]
}